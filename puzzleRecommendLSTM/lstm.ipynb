{
 "cells": [
  {
   "cell_type": "markdown",
   "metadata": {},
   "source": [
    "# LSTM for puzzle allocation"
   ]
  },
  {
   "cell_type": "code",
   "execution_count": 1,
   "metadata": {},
   "outputs": [
    {
     "name": "stderr",
     "output_type": "stream",
     "text": [
      "2023-08-24 15:12:36.868785: I tensorflow/core/platform/cpu_feature_guard.cc:182] This TensorFlow binary is optimized to use available CPU instructions in performance-critical operations.\n",
      "To enable the following instructions: AVX2 FMA, in other operations, rebuild TensorFlow with the appropriate compiler flags.\n",
      "/Users/glenda/opt/anaconda3/envs/machine-learning/lib/python3.8/site-packages/scipy/__init__.py:146: UserWarning: A NumPy version >=1.16.5 and <1.23.0 is required for this version of SciPy (detected version 1.24.3\n",
      "  warnings.warn(f\"A NumPy version >={np_minversion} and <{np_maxversion}\"\n"
     ]
    }
   ],
   "source": [
    "import numpy as np\n",
    "import tensorflow as tf "
   ]
  },
  {
   "cell_type": "markdown",
   "metadata": {},
   "source": [
    "### Attention spans in children\n",
    "2 years old: four to six minutes <br>\n",
    "4 years old: eight to 12 minutes  <br>\n",
    "6 years old: 12 to 18 minutes <br>\n",
    "8 years old: 16 to 24 minutes <br>\n",
    "10 years old: 20 to 30 minutes <br>\n",
    "12 years old: 24 to 36 minutes <br>"
   ]
  },
  {
   "cell_type": "code",
   "execution_count": 2,
   "metadata": {},
   "outputs": [],
   "source": [
    "AGE_TARGET_TIME = {\n",
    "  2: 300,\n",
    "  3: 450,\n",
    "  4: 600,\n",
    "  5: 750,\n",
    "  6: 900,\n",
    "  7: 1050,\n",
    "  8: 1200,\n",
    "  9: 1350,\n",
    "  10: 1500,\n",
    "  11: 1650, \n",
    "  12: 1800,\n",
    "}\n",
    "\n",
    "AGE = 5\n",
    "\n",
    "TARGET_TIME_IN_SECONDS = AGE_TARGET_TIME[AGE]\n",
    "\n",
    "PROGRESSION_COEFF = 1.5 # relationship between rating and time taken to solve\n",
    "PERF_QUOTIENT_NORMALISATION_COEFF = 5 # attempt to normalise the curve of the performance quotient"
   ]
  },
  {
   "cell_type": "code",
   "execution_count": 3,
   "metadata": {},
   "outputs": [
    {
     "name": "stdout",
     "output_type": "stream",
     "text": [
      "Target time in seconds: 750s\n"
     ]
    }
   ],
   "source": [
    "print(f\"Target time in seconds: {TARGET_TIME_IN_SECONDS}s\")"
   ]
  },
  {
   "cell_type": "code",
   "execution_count": 4,
   "metadata": {},
   "outputs": [],
   "source": [
    "# Between -1 to 1. Quotient of 0 represents normal performance, lower number means poorer performance\n",
    "# Approximate performanceQuotient to be normally distributed, with a mean of 0 \n",
    "def performanceQuotient(userRating, puzzleRating, timeTaken):\n",
    "  targetTime = (puzzleRating/userRating) * TARGET_TIME_IN_SECONDS * PROGRESSION_COEFF\n",
    "  \n",
    "  print(targetTime)\n",
    "  \n",
    "  # Bound the 'worst' performance to be five times the target time (according to PERF_QUOTIENT_NORMALISATION_COEFF)\n",
    "  perfQuotient = (min(targetTime - timeTaken, targetTime*PERF_QUOTIENT_NORMALISATION_COEFF))/targetTime\n",
    "  return perfQuotient"
   ]
  },
  {
   "cell_type": "code",
   "execution_count": 7,
   "metadata": {},
   "outputs": [],
   "source": [
    "data = np.genfromtxt('data.csv', delimiter=',')"
   ]
  },
  {
   "cell_type": "code",
   "execution_count": 38,
   "metadata": {},
   "outputs": [],
   "source": [
    "data = data.reshape(100000, 10, 1)\n",
    "x = data[:, :-1]\n",
    "y = data[:,-1]\n",
    "\n",
    "train_x, train_y = x[:60000], y[:60000]\n",
    "val_x, val_y = x[60000:80000], y[60000:80000]\n",
    "test_x, test_y = x[80000:], y[80000:]"
   ]
  },
  {
   "cell_type": "code",
   "execution_count": 39,
   "metadata": {},
   "outputs": [
    {
     "name": "stdout",
     "output_type": "stream",
     "text": [
      "Epoch 1/10\n",
      "3125/3125 [==============================] - 8s 2ms/step - loss: 0.0954\n",
      "Epoch 2/10\n",
      "3125/3125 [==============================] - 6s 2ms/step - loss: 0.0077\n",
      "Epoch 3/10\n",
      "3125/3125 [==============================] - 6s 2ms/step - loss: 0.0050\n",
      "Epoch 4/10\n",
      "3125/3125 [==============================] - 6s 2ms/step - loss: 0.0040\n",
      "Epoch 5/10\n",
      "3125/3125 [==============================] - 6s 2ms/step - loss: 0.0035\n",
      "Epoch 6/10\n",
      "3125/3125 [==============================] - 6s 2ms/step - loss: 0.0031\n",
      "Epoch 7/10\n",
      "3125/3125 [==============================] - 6s 2ms/step - loss: 0.0029\n",
      "Epoch 8/10\n",
      "3125/3125 [==============================] - 6s 2ms/step - loss: 0.0028\n",
      "Epoch 9/10\n",
      "3125/3125 [==============================] - 6s 2ms/step - loss: 0.0026\n",
      "Epoch 10/10\n",
      "3125/3125 [==============================] - 6s 2ms/step - loss: 0.0025\n"
     ]
    },
    {
     "data": {
      "text/plain": [
       "<keras.src.callbacks.History at 0x7f8e9d64a820>"
      ]
     },
     "execution_count": 39,
     "metadata": {},
     "output_type": "execute_result"
    }
   ],
   "source": [
    "lstm_model = tf.keras.models.Sequential([\n",
    "  tf.keras.layers.LSTM(1),\n",
    "  tf.keras.layers.Dense(units=1)\n",
    "])\n",
    "\n",
    "lstm_model.compile(optimizer='sgd', loss='mse')\n",
    "lstm_model.fit(x, y, batch_size=32, epochs=10)"
   ]
  },
  {
   "cell_type": "code",
   "execution_count": 40,
   "metadata": {},
   "outputs": [
    {
     "name": "stdout",
     "output_type": "stream",
     "text": [
      "625/625 [==============================] - 1s 1ms/step - loss: 0.0025\n"
     ]
    },
    {
     "data": {
      "text/plain": [
       "0.00247415853664279"
      ]
     },
     "execution_count": 40,
     "metadata": {},
     "output_type": "execute_result"
    }
   ],
   "source": [
    "lstm_model.evaluate(test_x, test_y)"
   ]
  },
  {
   "cell_type": "code",
   "execution_count": null,
   "metadata": {},
   "outputs": [],
   "source": []
  }
 ],
 "metadata": {
  "kernelspec": {
   "display_name": "Python 3",
   "language": "python",
   "name": "python3"
  },
  "language_info": {
   "codemirror_mode": {
    "name": "ipython",
    "version": 3
   },
   "file_extension": ".py",
   "mimetype": "text/x-python",
   "name": "python",
   "nbconvert_exporter": "python",
   "pygments_lexer": "ipython3",
   "version": "3.8.12"
  },
  "orig_nbformat": 4
 },
 "nbformat": 4,
 "nbformat_minor": 2
}
