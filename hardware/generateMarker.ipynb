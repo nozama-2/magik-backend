{
 "cells": [
  {
   "cell_type": "code",
   "execution_count": 8,
   "metadata": {},
   "outputs": [],
   "source": [
    "import numpy as np\n",
    "import cv2 as cv\n",
    "\n",
    "dictionary = cv.aruco.getPredefinedDictionary(cv.aruco.DICT_7X7_50)"
   ]
  },
  {
   "cell_type": "code",
   "execution_count": 17,
   "metadata": {},
   "outputs": [],
   "source": [
    "for i in range(50):\n",
    "    marker = cv.aruco.generateImageMarker(dictionary, i, 150, 20)\n",
    "    cv.imwrite(f\"markers/marker_id_{i:02}.png\", marker) "
   ]
  },
  {
   "cell_type": "code",
   "execution_count": 12,
   "metadata": {},
   "outputs": [
    {
     "name": "stdout",
     "output_type": "stream",
     "text": [
      "< cv2.aruco.Board 00000297B09A8D90>\n"
     ]
    }
   ],
   "source": [
    "p1 = np.array([[0, 0, 0], [0, 1, 0], [1, 1, 0], [1, 0, 0]], dtype=np.float32)\n",
    "p2 = np.array([[1, 0, 0], [1, 1, 0], [2, 1, 0], [2, 0, 0]], dtype=np.float32)\n",
    "objPoints = np.array([p1, p2])\n",
    "dictionary = cv.aruco.getPredefinedDictionary(cv.aruco.DICT_7X7_50)\n",
    "ids = np.array([0, 1])\n",
    "board = cv.aruco.Board(objPoints, dictionary, ids)\n",
    "print(board)"
   ]
  },
  {
   "cell_type": "code",
   "execution_count": 7,
   "metadata": {},
   "outputs": [
    {
     "ename": "error",
     "evalue": "OpenCV(4.8.0) :-1: error: (-5:Bad argument) in function 'drawMarker'\n> Overload resolution failed:\n>  - drawMarker() missing required argument 'color' (pos 3)\n>  - drawMarker() missing required argument 'color' (pos 3)\n",
     "output_type": "error",
     "traceback": [
      "\u001b[1;31m---------------------------------------------------------------------------\u001b[0m",
      "\u001b[1;31merror\u001b[0m                                     Traceback (most recent call last)",
      "Cell \u001b[1;32mIn[7], line 1\u001b[0m\n\u001b[1;32m----> 1\u001b[0m cv2\u001b[39m.\u001b[39;49mdrawMarker(cv2\u001b[39m.\u001b[39;49maruco\u001b[39m.\u001b[39;49mDICT_5X5_50, \u001b[39m1\u001b[39;49m)\n",
      "\u001b[1;31merror\u001b[0m: OpenCV(4.8.0) :-1: error: (-5:Bad argument) in function 'drawMarker'\n> Overload resolution failed:\n>  - drawMarker() missing required argument 'color' (pos 3)\n>  - drawMarker() missing required argument 'color' (pos 3)\n"
     ]
    }
   ],
   "source": [
    "cv2.drawMarker(cv2.aruco.DICT_5X5_50, 1)"
   ]
  },
  {
   "cell_type": "code",
   "execution_count": 10,
   "metadata": {},
   "outputs": [
    {
     "ename": "AttributeError",
     "evalue": "module 'cv2' has no attribute 'GridBoard'",
     "output_type": "error",
     "traceback": [
      "\u001b[1;31m---------------------------------------------------------------------------\u001b[0m",
      "\u001b[1;31mAttributeError\u001b[0m                            Traceback (most recent call last)",
      "Cell \u001b[1;32mIn[10], line 1\u001b[0m\n\u001b[1;32m----> 1\u001b[0m cv2\u001b[39m.\u001b[39;49mGridBoard\u001b[39m.\u001b[39mcreate()\n",
      "\u001b[1;31mAttributeError\u001b[0m: module 'cv2' has no attribute 'GridBoard'"
     ]
    }
   ],
   "source": [
    "cv2.GridBoard.create()"
   ]
  },
  {
   "cell_type": "code",
   "execution_count": 7,
   "metadata": {},
   "outputs": [
    {
     "name": "stdout",
     "output_type": "stream",
     "text": [
      "00\n",
      "01\n",
      "02\n",
      "03\n",
      "04\n",
      "05\n",
      "06\n",
      "07\n",
      "08\n",
      "09\n",
      "10\n",
      "11\n",
      "12\n",
      "13\n",
      "14\n",
      "15\n",
      "16\n",
      "17\n",
      "18\n",
      "19\n"
     ]
    }
   ],
   "source": [
    "for i in range(20):\n",
    "    print(f\"{i:02}\")"
   ]
  }
 ],
 "metadata": {
  "kernelspec": {
   "display_name": ".venv",
   "language": "python",
   "name": "python3"
  },
  "language_info": {
   "codemirror_mode": {
    "name": "ipython",
    "version": 3
   },
   "file_extension": ".py",
   "mimetype": "text/x-python",
   "name": "python",
   "nbconvert_exporter": "python",
   "pygments_lexer": "ipython3",
   "version": "3.9.1"
  },
  "orig_nbformat": 4
 },
 "nbformat": 4,
 "nbformat_minor": 2
}
